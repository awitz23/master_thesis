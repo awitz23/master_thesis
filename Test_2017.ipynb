{
  "nbformat": 4,
  "nbformat_minor": 0,
  "metadata": {
    "colab": {
      "provenance": [],
      "gpuType": "T4",
      "authorship_tag": "ABX9TyPW2DkD/OMRjurcno0oWj2E",
      "include_colab_link": true
    },
    "kernelspec": {
      "name": "python3",
      "display_name": "Python 3"
    },
    "language_info": {
      "name": "python"
    },
    "widgets": {
      "application/vnd.jupyter.widget-state+json": {
        "ec7932cff2f944af8b31b39719556a28": {
          "model_module": "@jupyter-widgets/controls",
          "model_name": "HBoxModel",
          "model_module_version": "1.5.0",
          "state": {
            "_dom_classes": [],
            "_model_module": "@jupyter-widgets/controls",
            "_model_module_version": "1.5.0",
            "_model_name": "HBoxModel",
            "_view_count": null,
            "_view_module": "@jupyter-widgets/controls",
            "_view_module_version": "1.5.0",
            "_view_name": "HBoxView",
            "box_style": "",
            "children": [
              "IPY_MODEL_43c032cf2cbf44b08546cfbb63f6db18",
              "IPY_MODEL_0868f69a7a0b4e71936c5f12d4aa511e",
              "IPY_MODEL_70a2e0a251164ae2b9a99bb64e302d14"
            ],
            "layout": "IPY_MODEL_ccdfedf644d543dab65d2a233a8dce6e"
          }
        },
        "43c032cf2cbf44b08546cfbb63f6db18": {
          "model_module": "@jupyter-widgets/controls",
          "model_name": "HTMLModel",
          "model_module_version": "1.5.0",
          "state": {
            "_dom_classes": [],
            "_model_module": "@jupyter-widgets/controls",
            "_model_module_version": "1.5.0",
            "_model_name": "HTMLModel",
            "_view_count": null,
            "_view_module": "@jupyter-widgets/controls",
            "_view_module_version": "1.5.0",
            "_view_name": "HTMLView",
            "description": "",
            "description_tooltip": null,
            "layout": "IPY_MODEL_91568569f9ba4815a3bdc2ac869162e7",
            "placeholder": "​",
            "style": "IPY_MODEL_c97e801611d5422fbbcf06dd4d9d95db",
            "value": "parsing log, completed traces :: 100%"
          }
        },
        "0868f69a7a0b4e71936c5f12d4aa511e": {
          "model_module": "@jupyter-widgets/controls",
          "model_name": "FloatProgressModel",
          "model_module_version": "1.5.0",
          "state": {
            "_dom_classes": [],
            "_model_module": "@jupyter-widgets/controls",
            "_model_module_version": "1.5.0",
            "_model_name": "FloatProgressModel",
            "_view_count": null,
            "_view_module": "@jupyter-widgets/controls",
            "_view_module_version": "1.5.0",
            "_view_name": "ProgressView",
            "bar_style": "success",
            "description": "",
            "description_tooltip": null,
            "layout": "IPY_MODEL_27f1e2669ed24d55817c4e9c4787dd5a",
            "max": 31509,
            "min": 0,
            "orientation": "horizontal",
            "style": "IPY_MODEL_68657c2a59c64414977835c5b72a2b59",
            "value": 31509
          }
        },
        "70a2e0a251164ae2b9a99bb64e302d14": {
          "model_module": "@jupyter-widgets/controls",
          "model_name": "HTMLModel",
          "model_module_version": "1.5.0",
          "state": {
            "_dom_classes": [],
            "_model_module": "@jupyter-widgets/controls",
            "_model_module_version": "1.5.0",
            "_model_name": "HTMLModel",
            "_view_count": null,
            "_view_module": "@jupyter-widgets/controls",
            "_view_module_version": "1.5.0",
            "_view_name": "HTMLView",
            "description": "",
            "description_tooltip": null,
            "layout": "IPY_MODEL_a349c1b4b772484b945600f1cc94c34b",
            "placeholder": "​",
            "style": "IPY_MODEL_5e42b03146594dfbb1e314364c13e9c2",
            "value": " 31509/31509 [01:02&lt;00:00, 396.40it/s]"
          }
        },
        "ccdfedf644d543dab65d2a233a8dce6e": {
          "model_module": "@jupyter-widgets/base",
          "model_name": "LayoutModel",
          "model_module_version": "1.2.0",
          "state": {
            "_model_module": "@jupyter-widgets/base",
            "_model_module_version": "1.2.0",
            "_model_name": "LayoutModel",
            "_view_count": null,
            "_view_module": "@jupyter-widgets/base",
            "_view_module_version": "1.2.0",
            "_view_name": "LayoutView",
            "align_content": null,
            "align_items": null,
            "align_self": null,
            "border": null,
            "bottom": null,
            "display": null,
            "flex": null,
            "flex_flow": null,
            "grid_area": null,
            "grid_auto_columns": null,
            "grid_auto_flow": null,
            "grid_auto_rows": null,
            "grid_column": null,
            "grid_gap": null,
            "grid_row": null,
            "grid_template_areas": null,
            "grid_template_columns": null,
            "grid_template_rows": null,
            "height": null,
            "justify_content": null,
            "justify_items": null,
            "left": null,
            "margin": null,
            "max_height": null,
            "max_width": null,
            "min_height": null,
            "min_width": null,
            "object_fit": null,
            "object_position": null,
            "order": null,
            "overflow": null,
            "overflow_x": null,
            "overflow_y": null,
            "padding": null,
            "right": null,
            "top": null,
            "visibility": null,
            "width": null
          }
        },
        "91568569f9ba4815a3bdc2ac869162e7": {
          "model_module": "@jupyter-widgets/base",
          "model_name": "LayoutModel",
          "model_module_version": "1.2.0",
          "state": {
            "_model_module": "@jupyter-widgets/base",
            "_model_module_version": "1.2.0",
            "_model_name": "LayoutModel",
            "_view_count": null,
            "_view_module": "@jupyter-widgets/base",
            "_view_module_version": "1.2.0",
            "_view_name": "LayoutView",
            "align_content": null,
            "align_items": null,
            "align_self": null,
            "border": null,
            "bottom": null,
            "display": null,
            "flex": null,
            "flex_flow": null,
            "grid_area": null,
            "grid_auto_columns": null,
            "grid_auto_flow": null,
            "grid_auto_rows": null,
            "grid_column": null,
            "grid_gap": null,
            "grid_row": null,
            "grid_template_areas": null,
            "grid_template_columns": null,
            "grid_template_rows": null,
            "height": null,
            "justify_content": null,
            "justify_items": null,
            "left": null,
            "margin": null,
            "max_height": null,
            "max_width": null,
            "min_height": null,
            "min_width": null,
            "object_fit": null,
            "object_position": null,
            "order": null,
            "overflow": null,
            "overflow_x": null,
            "overflow_y": null,
            "padding": null,
            "right": null,
            "top": null,
            "visibility": null,
            "width": null
          }
        },
        "c97e801611d5422fbbcf06dd4d9d95db": {
          "model_module": "@jupyter-widgets/controls",
          "model_name": "DescriptionStyleModel",
          "model_module_version": "1.5.0",
          "state": {
            "_model_module": "@jupyter-widgets/controls",
            "_model_module_version": "1.5.0",
            "_model_name": "DescriptionStyleModel",
            "_view_count": null,
            "_view_module": "@jupyter-widgets/base",
            "_view_module_version": "1.2.0",
            "_view_name": "StyleView",
            "description_width": ""
          }
        },
        "27f1e2669ed24d55817c4e9c4787dd5a": {
          "model_module": "@jupyter-widgets/base",
          "model_name": "LayoutModel",
          "model_module_version": "1.2.0",
          "state": {
            "_model_module": "@jupyter-widgets/base",
            "_model_module_version": "1.2.0",
            "_model_name": "LayoutModel",
            "_view_count": null,
            "_view_module": "@jupyter-widgets/base",
            "_view_module_version": "1.2.0",
            "_view_name": "LayoutView",
            "align_content": null,
            "align_items": null,
            "align_self": null,
            "border": null,
            "bottom": null,
            "display": null,
            "flex": null,
            "flex_flow": null,
            "grid_area": null,
            "grid_auto_columns": null,
            "grid_auto_flow": null,
            "grid_auto_rows": null,
            "grid_column": null,
            "grid_gap": null,
            "grid_row": null,
            "grid_template_areas": null,
            "grid_template_columns": null,
            "grid_template_rows": null,
            "height": null,
            "justify_content": null,
            "justify_items": null,
            "left": null,
            "margin": null,
            "max_height": null,
            "max_width": null,
            "min_height": null,
            "min_width": null,
            "object_fit": null,
            "object_position": null,
            "order": null,
            "overflow": null,
            "overflow_x": null,
            "overflow_y": null,
            "padding": null,
            "right": null,
            "top": null,
            "visibility": null,
            "width": null
          }
        },
        "68657c2a59c64414977835c5b72a2b59": {
          "model_module": "@jupyter-widgets/controls",
          "model_name": "ProgressStyleModel",
          "model_module_version": "1.5.0",
          "state": {
            "_model_module": "@jupyter-widgets/controls",
            "_model_module_version": "1.5.0",
            "_model_name": "ProgressStyleModel",
            "_view_count": null,
            "_view_module": "@jupyter-widgets/base",
            "_view_module_version": "1.2.0",
            "_view_name": "StyleView",
            "bar_color": null,
            "description_width": ""
          }
        },
        "a349c1b4b772484b945600f1cc94c34b": {
          "model_module": "@jupyter-widgets/base",
          "model_name": "LayoutModel",
          "model_module_version": "1.2.0",
          "state": {
            "_model_module": "@jupyter-widgets/base",
            "_model_module_version": "1.2.0",
            "_model_name": "LayoutModel",
            "_view_count": null,
            "_view_module": "@jupyter-widgets/base",
            "_view_module_version": "1.2.0",
            "_view_name": "LayoutView",
            "align_content": null,
            "align_items": null,
            "align_self": null,
            "border": null,
            "bottom": null,
            "display": null,
            "flex": null,
            "flex_flow": null,
            "grid_area": null,
            "grid_auto_columns": null,
            "grid_auto_flow": null,
            "grid_auto_rows": null,
            "grid_column": null,
            "grid_gap": null,
            "grid_row": null,
            "grid_template_areas": null,
            "grid_template_columns": null,
            "grid_template_rows": null,
            "height": null,
            "justify_content": null,
            "justify_items": null,
            "left": null,
            "margin": null,
            "max_height": null,
            "max_width": null,
            "min_height": null,
            "min_width": null,
            "object_fit": null,
            "object_position": null,
            "order": null,
            "overflow": null,
            "overflow_x": null,
            "overflow_y": null,
            "padding": null,
            "right": null,
            "top": null,
            "visibility": null,
            "width": null
          }
        },
        "5e42b03146594dfbb1e314364c13e9c2": {
          "model_module": "@jupyter-widgets/controls",
          "model_name": "DescriptionStyleModel",
          "model_module_version": "1.5.0",
          "state": {
            "_model_module": "@jupyter-widgets/controls",
            "_model_module_version": "1.5.0",
            "_model_name": "DescriptionStyleModel",
            "_view_count": null,
            "_view_module": "@jupyter-widgets/base",
            "_view_module_version": "1.2.0",
            "_view_name": "StyleView",
            "description_width": ""
          }
        }
      }
    }
  },
  "cells": [
    {
      "cell_type": "markdown",
      "metadata": {
        "id": "view-in-github",
        "colab_type": "text"
      },
      "source": [
        "<a href=\"https://colab.research.google.com/github/awitz23/master_thesis/blob/main/Test_2017.ipynb\" target=\"_parent\"><img src=\"https://colab.research.google.com/assets/colab-badge.svg\" alt=\"Open In Colab\"/></a>"
      ]
    },
    {
      "cell_type": "markdown",
      "source": [
        "# Dependencies"
      ],
      "metadata": {
        "id": "jkIsQ42ihUaq"
      }
    },
    {
      "cell_type": "code",
      "source": [
        "from google.colab import drive\n",
        "drive.mount('/content/drive')\n",
        "\n",
        "# Pfad zu einem Ordner mit mehreren Dateien\n",
        "\n"
      ],
      "metadata": {
        "colab": {
          "base_uri": "https://localhost:8080/"
        },
        "id": "rRf0wXtvtX7Y",
        "outputId": "3cd2cd98-eb03-4b74-b8df-ce3e269369a8"
      },
      "execution_count": 1,
      "outputs": [
        {
          "output_type": "stream",
          "name": "stdout",
          "text": [
            "Mounted at /content/drive\n"
          ]
        }
      ]
    },
    {
      "cell_type": "code",
      "execution_count": 2,
      "metadata": {
        "id": "KmtzA1MHtWhp",
        "colab": {
          "base_uri": "https://localhost:8080/"
        },
        "outputId": "f6682e2e-2fb5-4f67-f048-b648e262e699"
      },
      "outputs": [
        {
          "output_type": "stream",
          "name": "stdout",
          "text": [
            "Collecting pm4py\n",
            "  Downloading pm4py-2.7.5.2-py3-none-any.whl (1.8 MB)\n",
            "\u001b[?25l     \u001b[90m━━━━━━━━━━━━━━━━━━━━━━━━━━━━━━━━━━━━━━━━\u001b[0m \u001b[32m0.0/1.8 MB\u001b[0m \u001b[31m?\u001b[0m eta \u001b[36m-:--:--\u001b[0m\r\u001b[2K     \u001b[91m━━━━━━━━━━━━━━━\u001b[0m\u001b[90m╺\u001b[0m\u001b[90m━━━━━━━━━━━━━━━━━━━━━━━━\u001b[0m \u001b[32m0.7/1.8 MB\u001b[0m \u001b[31m20.2 MB/s\u001b[0m eta \u001b[36m0:00:01\u001b[0m\r\u001b[2K     \u001b[90m━━━━━━━━━━━━━━━━━━━━━━━━━━━━━━━━━━━━━━━━\u001b[0m \u001b[32m1.8/1.8 MB\u001b[0m \u001b[31m28.2 MB/s\u001b[0m eta \u001b[36m0:00:00\u001b[0m\n",
            "\u001b[?25hCollecting deprecation (from pm4py)\n",
            "  Downloading deprecation-2.1.0-py2.py3-none-any.whl (11 kB)\n",
            "Requirement already satisfied: graphviz in /usr/local/lib/python3.10/dist-packages (from pm4py) (0.20.1)\n",
            "Collecting intervaltree (from pm4py)\n",
            "  Downloading intervaltree-3.1.0.tar.gz (32 kB)\n",
            "  Preparing metadata (setup.py) ... \u001b[?25l\u001b[?25hdone\n",
            "Requirement already satisfied: lxml in /usr/local/lib/python3.10/dist-packages (from pm4py) (4.9.3)\n",
            "Requirement already satisfied: matplotlib in /usr/local/lib/python3.10/dist-packages (from pm4py) (3.7.1)\n",
            "Requirement already satisfied: networkx in /usr/local/lib/python3.10/dist-packages (from pm4py) (3.1)\n",
            "Requirement already satisfied: numpy in /usr/local/lib/python3.10/dist-packages (from pm4py) (1.23.5)\n",
            "Requirement already satisfied: pandas in /usr/local/lib/python3.10/dist-packages (from pm4py) (1.5.3)\n",
            "Requirement already satisfied: pydotplus in /usr/local/lib/python3.10/dist-packages (from pm4py) (2.0.2)\n",
            "Requirement already satisfied: pytz in /usr/local/lib/python3.10/dist-packages (from pm4py) (2023.3.post1)\n",
            "Requirement already satisfied: scipy in /usr/local/lib/python3.10/dist-packages (from pm4py) (1.11.2)\n",
            "Collecting stringdist (from pm4py)\n",
            "  Downloading StringDist-1.0.9.tar.gz (7.4 kB)\n",
            "  Preparing metadata (setup.py) ... \u001b[?25l\u001b[?25hdone\n",
            "Requirement already satisfied: tqdm in /usr/local/lib/python3.10/dist-packages (from pm4py) (4.66.1)\n",
            "Requirement already satisfied: cvxopt in /usr/local/lib/python3.10/dist-packages (from pm4py) (1.3.2)\n",
            "Requirement already satisfied: packaging in /usr/local/lib/python3.10/dist-packages (from deprecation->pm4py) (23.1)\n",
            "Requirement already satisfied: sortedcontainers<3.0,>=2.0 in /usr/local/lib/python3.10/dist-packages (from intervaltree->pm4py) (2.4.0)\n",
            "Requirement already satisfied: contourpy>=1.0.1 in /usr/local/lib/python3.10/dist-packages (from matplotlib->pm4py) (1.1.0)\n",
            "Requirement already satisfied: cycler>=0.10 in /usr/local/lib/python3.10/dist-packages (from matplotlib->pm4py) (0.11.0)\n",
            "Requirement already satisfied: fonttools>=4.22.0 in /usr/local/lib/python3.10/dist-packages (from matplotlib->pm4py) (4.42.1)\n",
            "Requirement already satisfied: kiwisolver>=1.0.1 in /usr/local/lib/python3.10/dist-packages (from matplotlib->pm4py) (1.4.5)\n",
            "Requirement already satisfied: pillow>=6.2.0 in /usr/local/lib/python3.10/dist-packages (from matplotlib->pm4py) (9.4.0)\n",
            "Requirement already satisfied: pyparsing>=2.3.1 in /usr/local/lib/python3.10/dist-packages (from matplotlib->pm4py) (3.1.1)\n",
            "Requirement already satisfied: python-dateutil>=2.7 in /usr/local/lib/python3.10/dist-packages (from matplotlib->pm4py) (2.8.2)\n",
            "Requirement already satisfied: six>=1.5 in /usr/local/lib/python3.10/dist-packages (from python-dateutil>=2.7->matplotlib->pm4py) (1.16.0)\n",
            "Building wheels for collected packages: intervaltree, stringdist\n",
            "  Building wheel for intervaltree (setup.py) ... \u001b[?25l\u001b[?25hdone\n",
            "  Created wheel for intervaltree: filename=intervaltree-3.1.0-py2.py3-none-any.whl size=26094 sha256=597dbdcd02650ade1af26a9325bcf11828893b28b347692046ed72a1a94b45d5\n",
            "  Stored in directory: /root/.cache/pip/wheels/fa/80/8c/43488a924a046b733b64de3fac99252674c892a4c3801c0a61\n",
            "  Building wheel for stringdist (setup.py) ... \u001b[?25l\u001b[?25hdone\n",
            "  Created wheel for stringdist: filename=StringDist-1.0.9-cp310-cp310-linux_x86_64.whl size=16966 sha256=668a54f9c1f57c81c5c22e21dd0fc0a7f3d5f03c22e146d8a3a98dd24c0c0b8d\n",
            "  Stored in directory: /root/.cache/pip/wheels/79/25/0a/4a0c2c7af31a8b473f6e10e30312396f31ae899722600d7b99\n",
            "Successfully built intervaltree stringdist\n",
            "Installing collected packages: stringdist, intervaltree, deprecation, pm4py\n",
            "Successfully installed deprecation-2.1.0 intervaltree-3.1.0 pm4py-2.7.5.2 stringdist-1.0.9\n"
          ]
        }
      ],
      "source": [
        "!pip install pm4py\n",
        "import pandas as pd\n",
        "import pm4py\n",
        "data_path = r\"/content/drive/MyDrive/BPI2017_alt.gz\"\n"
      ]
    },
    {
      "cell_type": "markdown",
      "source": [
        "# Initialisierung der Daten"
      ],
      "metadata": {
        "id": "NfkcpjjEhdHs"
      }
    },
    {
      "cell_type": "code",
      "source": [
        "if __name__ == \"__main__\":\n",
        "    log = pm4py.read_xes(data_path)\n",
        "\n",
        "df = log"
      ],
      "metadata": {
        "colab": {
          "base_uri": "https://localhost:8080/",
          "height": 105,
          "referenced_widgets": [
            "ec7932cff2f944af8b31b39719556a28",
            "43c032cf2cbf44b08546cfbb63f6db18",
            "0868f69a7a0b4e71936c5f12d4aa511e",
            "70a2e0a251164ae2b9a99bb64e302d14",
            "ccdfedf644d543dab65d2a233a8dce6e",
            "91568569f9ba4815a3bdc2ac869162e7",
            "c97e801611d5422fbbcf06dd4d9d95db",
            "27f1e2669ed24d55817c4e9c4787dd5a",
            "68657c2a59c64414977835c5b72a2b59",
            "a349c1b4b772484b945600f1cc94c34b",
            "5e42b03146594dfbb1e314364c13e9c2"
          ]
        },
        "id": "8UHYt88ft0Zf",
        "outputId": "c387b5e3-ef9d-4986-9c80-71e95a27497f"
      },
      "execution_count": 3,
      "outputs": [
        {
          "output_type": "stream",
          "name": "stderr",
          "text": [
            "/usr/local/lib/python3.10/dist-packages/pm4py/util/dt_parsing/parser.py:76: UserWarning: ISO8601 strings are not fully supported with strpfromiso for Python versions below 3.11\n",
            "  warnings.warn(\n"
          ]
        },
        {
          "output_type": "display_data",
          "data": {
            "text/plain": [
              "parsing log, completed traces ::   0%|          | 0/31509 [00:00<?, ?it/s]"
            ],
            "application/vnd.jupyter.widget-view+json": {
              "version_major": 2,
              "version_minor": 0,
              "model_id": "ec7932cff2f944af8b31b39719556a28"
            }
          },
          "metadata": {}
        }
      ]
    },
    {
      "cell_type": "code",
      "source": [
        "df"
      ],
      "metadata": {
        "colab": {
          "base_uri": "https://localhost:8080/",
          "height": 617
        },
        "id": "ZG6HvTQ1aq8D",
        "outputId": "6e97d235-bb05-4018-818d-a7d491dbce44"
      },
      "execution_count": 15,
      "outputs": [
        {
          "output_type": "execute_result",
          "data": {
            "text/plain": [
              "              Action org:resource            concept:name  EventOrigin  \\\n",
              "0            Created       User_1    A_Create Application  Application   \n",
              "1        statechange       User_1             A_Submitted  Application   \n",
              "2            Created       User_1          W_Handle leads     Workflow   \n",
              "3            Deleted       User_1          W_Handle leads     Workflow   \n",
              "4            Created       User_1  W_Complete application     Workflow   \n",
              "...              ...          ...                     ...          ...   \n",
              "1202262      Deleted       User_1     W_Call after offers     Workflow   \n",
              "1202263      Created       User_1     W_Call after offers     Workflow   \n",
              "1202264  statechange      User_28             A_Cancelled  Application   \n",
              "1202265  statechange      User_28             O_Cancelled        Offer   \n",
              "1202266      Deleted      User_28     W_Call after offers     Workflow   \n",
              "\n",
              "                       EventID lifecycle:transition  \\\n",
              "0        Application_652823628             complete   \n",
              "1         ApplState_1582051990             complete   \n",
              "2          Workitem_1298499574             schedule   \n",
              "3          Workitem_1673366067             withdraw   \n",
              "4          Workitem_1493664571             schedule   \n",
              "...                        ...                  ...   \n",
              "1202262    Workitem_1817549786            ate_abort   \n",
              "1202263     Workitem_363876066             schedule   \n",
              "1202264   ApplState_1869071797             complete   \n",
              "1202265   OfferState_420066181             complete   \n",
              "1202266    Workitem_1934044935             withdraw   \n",
              "\n",
              "                          time:timestamp           case:LoanGoal  \\\n",
              "0       2016-01-01 09:51:15.304000+00:00  Existing loan takeover   \n",
              "1       2016-01-01 09:51:15.352000+00:00  Existing loan takeover   \n",
              "2       2016-01-01 09:51:15.774000+00:00  Existing loan takeover   \n",
              "3       2016-01-01 09:52:36.392000+00:00  Existing loan takeover   \n",
              "4       2016-01-01 09:52:36.403000+00:00  Existing loan takeover   \n",
              "...                                  ...                     ...   \n",
              "1202262 2017-01-06 06:33:02.212000+00:00        Home improvement   \n",
              "1202263 2017-01-06 06:33:02.221000+00:00        Home improvement   \n",
              "1202264 2017-01-16 09:51:21.114000+00:00        Home improvement   \n",
              "1202265 2017-01-16 09:51:21.139000+00:00        Home improvement   \n",
              "1202266 2017-01-16 09:51:21.146000+00:00        Home improvement   \n",
              "\n",
              "        case:ApplicationType       case:concept:name  case:RequestedAmount  \\\n",
              "0                 New credit   Application_652823628               20000.0   \n",
              "1                 New credit   Application_652823628               20000.0   \n",
              "2                 New credit   Application_652823628               20000.0   \n",
              "3                 New credit   Application_652823628               20000.0   \n",
              "4                 New credit   Application_652823628               20000.0   \n",
              "...                      ...                     ...                   ...   \n",
              "1202262           New credit  Application_1350494635               20000.0   \n",
              "1202263           New credit  Application_1350494635               20000.0   \n",
              "1202264           New credit  Application_1350494635               20000.0   \n",
              "1202265           New credit  Application_1350494635               20000.0   \n",
              "1202266           New credit  Application_1350494635               20000.0   \n",
              "\n",
              "         FirstWithdrawalAmount  NumberOfTerms Accepted  MonthlyCost Selected  \\\n",
              "0                          NaN            NaN      NaN          NaN      NaN   \n",
              "1                          NaN            NaN      NaN          NaN      NaN   \n",
              "2                          NaN            NaN      NaN          NaN      NaN   \n",
              "3                          NaN            NaN      NaN          NaN      NaN   \n",
              "4                          NaN            NaN      NaN          NaN      NaN   \n",
              "...                        ...            ...      ...          ...      ...   \n",
              "1202262                    NaN            NaN      NaN          NaN      NaN   \n",
              "1202263                    NaN            NaN      NaN          NaN      NaN   \n",
              "1202264                    NaN            NaN      NaN          NaN      NaN   \n",
              "1202265                    NaN            NaN      NaN          NaN      NaN   \n",
              "1202266                    NaN            NaN      NaN          NaN      NaN   \n",
              "\n",
              "         CreditScore  OfferedAmount           OfferID  \n",
              "0                NaN            NaN               NaN  \n",
              "1                NaN            NaN               NaN  \n",
              "2                NaN            NaN               NaN  \n",
              "3                NaN            NaN               NaN  \n",
              "4                NaN            NaN               NaN  \n",
              "...              ...            ...               ...  \n",
              "1202262          NaN            NaN               NaN  \n",
              "1202263          NaN            NaN               NaN  \n",
              "1202264          NaN            NaN               NaN  \n",
              "1202265          NaN            NaN  Offer_1580299144  \n",
              "1202266          NaN            NaN               NaN  \n",
              "\n",
              "[1202267 rows x 19 columns]"
            ],
            "text/html": [
              "\n",
              "  <div id=\"df-54a0ae6b-3869-43b1-9f35-199dd34f2a60\" class=\"colab-df-container\">\n",
              "    <div>\n",
              "<style scoped>\n",
              "    .dataframe tbody tr th:only-of-type {\n",
              "        vertical-align: middle;\n",
              "    }\n",
              "\n",
              "    .dataframe tbody tr th {\n",
              "        vertical-align: top;\n",
              "    }\n",
              "\n",
              "    .dataframe thead th {\n",
              "        text-align: right;\n",
              "    }\n",
              "</style>\n",
              "<table border=\"1\" class=\"dataframe\">\n",
              "  <thead>\n",
              "    <tr style=\"text-align: right;\">\n",
              "      <th></th>\n",
              "      <th>Action</th>\n",
              "      <th>org:resource</th>\n",
              "      <th>concept:name</th>\n",
              "      <th>EventOrigin</th>\n",
              "      <th>EventID</th>\n",
              "      <th>lifecycle:transition</th>\n",
              "      <th>time:timestamp</th>\n",
              "      <th>case:LoanGoal</th>\n",
              "      <th>case:ApplicationType</th>\n",
              "      <th>case:concept:name</th>\n",
              "      <th>case:RequestedAmount</th>\n",
              "      <th>FirstWithdrawalAmount</th>\n",
              "      <th>NumberOfTerms</th>\n",
              "      <th>Accepted</th>\n",
              "      <th>MonthlyCost</th>\n",
              "      <th>Selected</th>\n",
              "      <th>CreditScore</th>\n",
              "      <th>OfferedAmount</th>\n",
              "      <th>OfferID</th>\n",
              "    </tr>\n",
              "  </thead>\n",
              "  <tbody>\n",
              "    <tr>\n",
              "      <th>0</th>\n",
              "      <td>Created</td>\n",
              "      <td>User_1</td>\n",
              "      <td>A_Create Application</td>\n",
              "      <td>Application</td>\n",
              "      <td>Application_652823628</td>\n",
              "      <td>complete</td>\n",
              "      <td>2016-01-01 09:51:15.304000+00:00</td>\n",
              "      <td>Existing loan takeover</td>\n",
              "      <td>New credit</td>\n",
              "      <td>Application_652823628</td>\n",
              "      <td>20000.0</td>\n",
              "      <td>NaN</td>\n",
              "      <td>NaN</td>\n",
              "      <td>NaN</td>\n",
              "      <td>NaN</td>\n",
              "      <td>NaN</td>\n",
              "      <td>NaN</td>\n",
              "      <td>NaN</td>\n",
              "      <td>NaN</td>\n",
              "    </tr>\n",
              "    <tr>\n",
              "      <th>1</th>\n",
              "      <td>statechange</td>\n",
              "      <td>User_1</td>\n",
              "      <td>A_Submitted</td>\n",
              "      <td>Application</td>\n",
              "      <td>ApplState_1582051990</td>\n",
              "      <td>complete</td>\n",
              "      <td>2016-01-01 09:51:15.352000+00:00</td>\n",
              "      <td>Existing loan takeover</td>\n",
              "      <td>New credit</td>\n",
              "      <td>Application_652823628</td>\n",
              "      <td>20000.0</td>\n",
              "      <td>NaN</td>\n",
              "      <td>NaN</td>\n",
              "      <td>NaN</td>\n",
              "      <td>NaN</td>\n",
              "      <td>NaN</td>\n",
              "      <td>NaN</td>\n",
              "      <td>NaN</td>\n",
              "      <td>NaN</td>\n",
              "    </tr>\n",
              "    <tr>\n",
              "      <th>2</th>\n",
              "      <td>Created</td>\n",
              "      <td>User_1</td>\n",
              "      <td>W_Handle leads</td>\n",
              "      <td>Workflow</td>\n",
              "      <td>Workitem_1298499574</td>\n",
              "      <td>schedule</td>\n",
              "      <td>2016-01-01 09:51:15.774000+00:00</td>\n",
              "      <td>Existing loan takeover</td>\n",
              "      <td>New credit</td>\n",
              "      <td>Application_652823628</td>\n",
              "      <td>20000.0</td>\n",
              "      <td>NaN</td>\n",
              "      <td>NaN</td>\n",
              "      <td>NaN</td>\n",
              "      <td>NaN</td>\n",
              "      <td>NaN</td>\n",
              "      <td>NaN</td>\n",
              "      <td>NaN</td>\n",
              "      <td>NaN</td>\n",
              "    </tr>\n",
              "    <tr>\n",
              "      <th>3</th>\n",
              "      <td>Deleted</td>\n",
              "      <td>User_1</td>\n",
              "      <td>W_Handle leads</td>\n",
              "      <td>Workflow</td>\n",
              "      <td>Workitem_1673366067</td>\n",
              "      <td>withdraw</td>\n",
              "      <td>2016-01-01 09:52:36.392000+00:00</td>\n",
              "      <td>Existing loan takeover</td>\n",
              "      <td>New credit</td>\n",
              "      <td>Application_652823628</td>\n",
              "      <td>20000.0</td>\n",
              "      <td>NaN</td>\n",
              "      <td>NaN</td>\n",
              "      <td>NaN</td>\n",
              "      <td>NaN</td>\n",
              "      <td>NaN</td>\n",
              "      <td>NaN</td>\n",
              "      <td>NaN</td>\n",
              "      <td>NaN</td>\n",
              "    </tr>\n",
              "    <tr>\n",
              "      <th>4</th>\n",
              "      <td>Created</td>\n",
              "      <td>User_1</td>\n",
              "      <td>W_Complete application</td>\n",
              "      <td>Workflow</td>\n",
              "      <td>Workitem_1493664571</td>\n",
              "      <td>schedule</td>\n",
              "      <td>2016-01-01 09:52:36.403000+00:00</td>\n",
              "      <td>Existing loan takeover</td>\n",
              "      <td>New credit</td>\n",
              "      <td>Application_652823628</td>\n",
              "      <td>20000.0</td>\n",
              "      <td>NaN</td>\n",
              "      <td>NaN</td>\n",
              "      <td>NaN</td>\n",
              "      <td>NaN</td>\n",
              "      <td>NaN</td>\n",
              "      <td>NaN</td>\n",
              "      <td>NaN</td>\n",
              "      <td>NaN</td>\n",
              "    </tr>\n",
              "    <tr>\n",
              "      <th>...</th>\n",
              "      <td>...</td>\n",
              "      <td>...</td>\n",
              "      <td>...</td>\n",
              "      <td>...</td>\n",
              "      <td>...</td>\n",
              "      <td>...</td>\n",
              "      <td>...</td>\n",
              "      <td>...</td>\n",
              "      <td>...</td>\n",
              "      <td>...</td>\n",
              "      <td>...</td>\n",
              "      <td>...</td>\n",
              "      <td>...</td>\n",
              "      <td>...</td>\n",
              "      <td>...</td>\n",
              "      <td>...</td>\n",
              "      <td>...</td>\n",
              "      <td>...</td>\n",
              "      <td>...</td>\n",
              "    </tr>\n",
              "    <tr>\n",
              "      <th>1202262</th>\n",
              "      <td>Deleted</td>\n",
              "      <td>User_1</td>\n",
              "      <td>W_Call after offers</td>\n",
              "      <td>Workflow</td>\n",
              "      <td>Workitem_1817549786</td>\n",
              "      <td>ate_abort</td>\n",
              "      <td>2017-01-06 06:33:02.212000+00:00</td>\n",
              "      <td>Home improvement</td>\n",
              "      <td>New credit</td>\n",
              "      <td>Application_1350494635</td>\n",
              "      <td>20000.0</td>\n",
              "      <td>NaN</td>\n",
              "      <td>NaN</td>\n",
              "      <td>NaN</td>\n",
              "      <td>NaN</td>\n",
              "      <td>NaN</td>\n",
              "      <td>NaN</td>\n",
              "      <td>NaN</td>\n",
              "      <td>NaN</td>\n",
              "    </tr>\n",
              "    <tr>\n",
              "      <th>1202263</th>\n",
              "      <td>Created</td>\n",
              "      <td>User_1</td>\n",
              "      <td>W_Call after offers</td>\n",
              "      <td>Workflow</td>\n",
              "      <td>Workitem_363876066</td>\n",
              "      <td>schedule</td>\n",
              "      <td>2017-01-06 06:33:02.221000+00:00</td>\n",
              "      <td>Home improvement</td>\n",
              "      <td>New credit</td>\n",
              "      <td>Application_1350494635</td>\n",
              "      <td>20000.0</td>\n",
              "      <td>NaN</td>\n",
              "      <td>NaN</td>\n",
              "      <td>NaN</td>\n",
              "      <td>NaN</td>\n",
              "      <td>NaN</td>\n",
              "      <td>NaN</td>\n",
              "      <td>NaN</td>\n",
              "      <td>NaN</td>\n",
              "    </tr>\n",
              "    <tr>\n",
              "      <th>1202264</th>\n",
              "      <td>statechange</td>\n",
              "      <td>User_28</td>\n",
              "      <td>A_Cancelled</td>\n",
              "      <td>Application</td>\n",
              "      <td>ApplState_1869071797</td>\n",
              "      <td>complete</td>\n",
              "      <td>2017-01-16 09:51:21.114000+00:00</td>\n",
              "      <td>Home improvement</td>\n",
              "      <td>New credit</td>\n",
              "      <td>Application_1350494635</td>\n",
              "      <td>20000.0</td>\n",
              "      <td>NaN</td>\n",
              "      <td>NaN</td>\n",
              "      <td>NaN</td>\n",
              "      <td>NaN</td>\n",
              "      <td>NaN</td>\n",
              "      <td>NaN</td>\n",
              "      <td>NaN</td>\n",
              "      <td>NaN</td>\n",
              "    </tr>\n",
              "    <tr>\n",
              "      <th>1202265</th>\n",
              "      <td>statechange</td>\n",
              "      <td>User_28</td>\n",
              "      <td>O_Cancelled</td>\n",
              "      <td>Offer</td>\n",
              "      <td>OfferState_420066181</td>\n",
              "      <td>complete</td>\n",
              "      <td>2017-01-16 09:51:21.139000+00:00</td>\n",
              "      <td>Home improvement</td>\n",
              "      <td>New credit</td>\n",
              "      <td>Application_1350494635</td>\n",
              "      <td>20000.0</td>\n",
              "      <td>NaN</td>\n",
              "      <td>NaN</td>\n",
              "      <td>NaN</td>\n",
              "      <td>NaN</td>\n",
              "      <td>NaN</td>\n",
              "      <td>NaN</td>\n",
              "      <td>NaN</td>\n",
              "      <td>Offer_1580299144</td>\n",
              "    </tr>\n",
              "    <tr>\n",
              "      <th>1202266</th>\n",
              "      <td>Deleted</td>\n",
              "      <td>User_28</td>\n",
              "      <td>W_Call after offers</td>\n",
              "      <td>Workflow</td>\n",
              "      <td>Workitem_1934044935</td>\n",
              "      <td>withdraw</td>\n",
              "      <td>2017-01-16 09:51:21.146000+00:00</td>\n",
              "      <td>Home improvement</td>\n",
              "      <td>New credit</td>\n",
              "      <td>Application_1350494635</td>\n",
              "      <td>20000.0</td>\n",
              "      <td>NaN</td>\n",
              "      <td>NaN</td>\n",
              "      <td>NaN</td>\n",
              "      <td>NaN</td>\n",
              "      <td>NaN</td>\n",
              "      <td>NaN</td>\n",
              "      <td>NaN</td>\n",
              "      <td>NaN</td>\n",
              "    </tr>\n",
              "  </tbody>\n",
              "</table>\n",
              "<p>1202267 rows × 19 columns</p>\n",
              "</div>\n",
              "    <div class=\"colab-df-buttons\">\n",
              "\n",
              "  <div class=\"colab-df-container\">\n",
              "    <button class=\"colab-df-convert\" onclick=\"convertToInteractive('df-54a0ae6b-3869-43b1-9f35-199dd34f2a60')\"\n",
              "            title=\"Convert this dataframe to an interactive table.\"\n",
              "            style=\"display:none;\">\n",
              "\n",
              "  <svg xmlns=\"http://www.w3.org/2000/svg\" height=\"24px\" viewBox=\"0 -960 960 960\">\n",
              "    <path d=\"M120-120v-720h720v720H120Zm60-500h600v-160H180v160Zm220 220h160v-160H400v160Zm0 220h160v-160H400v160ZM180-400h160v-160H180v160Zm440 0h160v-160H620v160ZM180-180h160v-160H180v160Zm440 0h160v-160H620v160Z\"/>\n",
              "  </svg>\n",
              "    </button>\n",
              "\n",
              "  <style>\n",
              "    .colab-df-container {\n",
              "      display:flex;\n",
              "      gap: 12px;\n",
              "    }\n",
              "\n",
              "    .colab-df-convert {\n",
              "      background-color: #E8F0FE;\n",
              "      border: none;\n",
              "      border-radius: 50%;\n",
              "      cursor: pointer;\n",
              "      display: none;\n",
              "      fill: #1967D2;\n",
              "      height: 32px;\n",
              "      padding: 0 0 0 0;\n",
              "      width: 32px;\n",
              "    }\n",
              "\n",
              "    .colab-df-convert:hover {\n",
              "      background-color: #E2EBFA;\n",
              "      box-shadow: 0px 1px 2px rgba(60, 64, 67, 0.3), 0px 1px 3px 1px rgba(60, 64, 67, 0.15);\n",
              "      fill: #174EA6;\n",
              "    }\n",
              "\n",
              "    .colab-df-buttons div {\n",
              "      margin-bottom: 4px;\n",
              "    }\n",
              "\n",
              "    [theme=dark] .colab-df-convert {\n",
              "      background-color: #3B4455;\n",
              "      fill: #D2E3FC;\n",
              "    }\n",
              "\n",
              "    [theme=dark] .colab-df-convert:hover {\n",
              "      background-color: #434B5C;\n",
              "      box-shadow: 0px 1px 3px 1px rgba(0, 0, 0, 0.15);\n",
              "      filter: drop-shadow(0px 1px 2px rgba(0, 0, 0, 0.3));\n",
              "      fill: #FFFFFF;\n",
              "    }\n",
              "  </style>\n",
              "\n",
              "    <script>\n",
              "      const buttonEl =\n",
              "        document.querySelector('#df-54a0ae6b-3869-43b1-9f35-199dd34f2a60 button.colab-df-convert');\n",
              "      buttonEl.style.display =\n",
              "        google.colab.kernel.accessAllowed ? 'block' : 'none';\n",
              "\n",
              "      async function convertToInteractive(key) {\n",
              "        const element = document.querySelector('#df-54a0ae6b-3869-43b1-9f35-199dd34f2a60');\n",
              "        const dataTable =\n",
              "          await google.colab.kernel.invokeFunction('convertToInteractive',\n",
              "                                                    [key], {});\n",
              "        if (!dataTable) return;\n",
              "\n",
              "        const docLinkHtml = 'Like what you see? Visit the ' +\n",
              "          '<a target=\"_blank\" href=https://colab.research.google.com/notebooks/data_table.ipynb>data table notebook</a>'\n",
              "          + ' to learn more about interactive tables.';\n",
              "        element.innerHTML = '';\n",
              "        dataTable['output_type'] = 'display_data';\n",
              "        await google.colab.output.renderOutput(dataTable, element);\n",
              "        const docLink = document.createElement('div');\n",
              "        docLink.innerHTML = docLinkHtml;\n",
              "        element.appendChild(docLink);\n",
              "      }\n",
              "    </script>\n",
              "  </div>\n",
              "\n",
              "\n",
              "<div id=\"df-4e579222-639c-4268-8603-d03a88a41656\">\n",
              "  <button class=\"colab-df-quickchart\" onclick=\"quickchart('df-4e579222-639c-4268-8603-d03a88a41656')\"\n",
              "            title=\"Suggest charts.\"\n",
              "            style=\"display:none;\">\n",
              "\n",
              "<svg xmlns=\"http://www.w3.org/2000/svg\" height=\"24px\"viewBox=\"0 0 24 24\"\n",
              "     width=\"24px\">\n",
              "    <g>\n",
              "        <path d=\"M19 3H5c-1.1 0-2 .9-2 2v14c0 1.1.9 2 2 2h14c1.1 0 2-.9 2-2V5c0-1.1-.9-2-2-2zM9 17H7v-7h2v7zm4 0h-2V7h2v10zm4 0h-2v-4h2v4z\"/>\n",
              "    </g>\n",
              "</svg>\n",
              "  </button>\n",
              "\n",
              "<style>\n",
              "  .colab-df-quickchart {\n",
              "      --bg-color: #E8F0FE;\n",
              "      --fill-color: #1967D2;\n",
              "      --hover-bg-color: #E2EBFA;\n",
              "      --hover-fill-color: #174EA6;\n",
              "      --disabled-fill-color: #AAA;\n",
              "      --disabled-bg-color: #DDD;\n",
              "  }\n",
              "\n",
              "  [theme=dark] .colab-df-quickchart {\n",
              "      --bg-color: #3B4455;\n",
              "      --fill-color: #D2E3FC;\n",
              "      --hover-bg-color: #434B5C;\n",
              "      --hover-fill-color: #FFFFFF;\n",
              "      --disabled-bg-color: #3B4455;\n",
              "      --disabled-fill-color: #666;\n",
              "  }\n",
              "\n",
              "  .colab-df-quickchart {\n",
              "    background-color: var(--bg-color);\n",
              "    border: none;\n",
              "    border-radius: 50%;\n",
              "    cursor: pointer;\n",
              "    display: none;\n",
              "    fill: var(--fill-color);\n",
              "    height: 32px;\n",
              "    padding: 0;\n",
              "    width: 32px;\n",
              "  }\n",
              "\n",
              "  .colab-df-quickchart:hover {\n",
              "    background-color: var(--hover-bg-color);\n",
              "    box-shadow: 0 1px 2px rgba(60, 64, 67, 0.3), 0 1px 3px 1px rgba(60, 64, 67, 0.15);\n",
              "    fill: var(--button-hover-fill-color);\n",
              "  }\n",
              "\n",
              "  .colab-df-quickchart-complete:disabled,\n",
              "  .colab-df-quickchart-complete:disabled:hover {\n",
              "    background-color: var(--disabled-bg-color);\n",
              "    fill: var(--disabled-fill-color);\n",
              "    box-shadow: none;\n",
              "  }\n",
              "\n",
              "  .colab-df-spinner {\n",
              "    border: 2px solid var(--fill-color);\n",
              "    border-color: transparent;\n",
              "    border-bottom-color: var(--fill-color);\n",
              "    animation:\n",
              "      spin 1s steps(1) infinite;\n",
              "  }\n",
              "\n",
              "  @keyframes spin {\n",
              "    0% {\n",
              "      border-color: transparent;\n",
              "      border-bottom-color: var(--fill-color);\n",
              "      border-left-color: var(--fill-color);\n",
              "    }\n",
              "    20% {\n",
              "      border-color: transparent;\n",
              "      border-left-color: var(--fill-color);\n",
              "      border-top-color: var(--fill-color);\n",
              "    }\n",
              "    30% {\n",
              "      border-color: transparent;\n",
              "      border-left-color: var(--fill-color);\n",
              "      border-top-color: var(--fill-color);\n",
              "      border-right-color: var(--fill-color);\n",
              "    }\n",
              "    40% {\n",
              "      border-color: transparent;\n",
              "      border-right-color: var(--fill-color);\n",
              "      border-top-color: var(--fill-color);\n",
              "    }\n",
              "    60% {\n",
              "      border-color: transparent;\n",
              "      border-right-color: var(--fill-color);\n",
              "    }\n",
              "    80% {\n",
              "      border-color: transparent;\n",
              "      border-right-color: var(--fill-color);\n",
              "      border-bottom-color: var(--fill-color);\n",
              "    }\n",
              "    90% {\n",
              "      border-color: transparent;\n",
              "      border-bottom-color: var(--fill-color);\n",
              "    }\n",
              "  }\n",
              "</style>\n",
              "\n",
              "  <script>\n",
              "    async function quickchart(key) {\n",
              "      const quickchartButtonEl =\n",
              "        document.querySelector('#' + key + ' button');\n",
              "      quickchartButtonEl.disabled = true;  // To prevent multiple clicks.\n",
              "      quickchartButtonEl.classList.add('colab-df-spinner');\n",
              "      try {\n",
              "        const charts = await google.colab.kernel.invokeFunction(\n",
              "            'suggestCharts', [key], {});\n",
              "      } catch (error) {\n",
              "        console.error('Error during call to suggestCharts:', error);\n",
              "      }\n",
              "      quickchartButtonEl.classList.remove('colab-df-spinner');\n",
              "      quickchartButtonEl.classList.add('colab-df-quickchart-complete');\n",
              "    }\n",
              "    (() => {\n",
              "      let quickchartButtonEl =\n",
              "        document.querySelector('#df-4e579222-639c-4268-8603-d03a88a41656 button');\n",
              "      quickchartButtonEl.style.display =\n",
              "        google.colab.kernel.accessAllowed ? 'block' : 'none';\n",
              "    })();\n",
              "  </script>\n",
              "</div>\n",
              "    </div>\n",
              "  </div>\n"
            ]
          },
          "metadata": {},
          "execution_count": 15
        }
      ]
    },
    {
      "cell_type": "code",
      "source": [
        "(df['case:concept:name'].nunique())"
      ],
      "metadata": {
        "colab": {
          "base_uri": "https://localhost:8080/"
        },
        "id": "tmzo-zgEaHxl",
        "outputId": "fcf413ef-1ec7-44db-fbae-a064ff0cad20"
      },
      "execution_count": 6,
      "outputs": [
        {
          "output_type": "execute_result",
          "data": {
            "text/plain": [
              "31509"
            ]
          },
          "metadata": {},
          "execution_count": 6
        }
      ]
    },
    {
      "cell_type": "code",
      "source": [
        "selected_rows = df.loc[df[\"concept:name\"].isin([\"O_Accepted\", \"O_Refused\"])]"
      ],
      "metadata": {
        "id": "06FkL_eZcnGu"
      },
      "execution_count": 7,
      "outputs": []
    },
    {
      "cell_type": "code",
      "source": [
        "(df['concept:name'].unique())"
      ],
      "metadata": {
        "colab": {
          "base_uri": "https://localhost:8080/"
        },
        "id": "1cqZ6lHfXTRI",
        "outputId": "7b3ff9d5-4ee2-4cd4-995c-199b62568b4a"
      },
      "execution_count": 8,
      "outputs": [
        {
          "output_type": "execute_result",
          "data": {
            "text/plain": [
              "array(['A_Create Application', 'A_Submitted', 'W_Handle leads',\n",
              "       'W_Complete application', 'A_Concept', 'A_Accepted',\n",
              "       'O_Create Offer', 'O_Created', 'O_Sent (mail and online)',\n",
              "       'W_Call after offers', 'A_Complete', 'W_Validate application',\n",
              "       'A_Validating', 'O_Returned', 'W_Call incomplete files',\n",
              "       'A_Incomplete', 'O_Accepted', 'A_Pending', 'A_Denied', 'O_Refused',\n",
              "       'O_Cancelled', 'A_Cancelled', 'O_Sent (online only)',\n",
              "       'W_Assess potential fraud', 'W_Personal Loan collection',\n",
              "       'W_Shortened completion '], dtype=object)"
            ]
          },
          "metadata": {},
          "execution_count": 8
        }
      ]
    },
    {
      "cell_type": "code",
      "source": [
        "print(df.columns.tolist())"
      ],
      "metadata": {
        "colab": {
          "base_uri": "https://localhost:8080/"
        },
        "id": "Ud1PzZJE8tZZ",
        "outputId": "d84f513f-cdc8-4728-bc8a-0c3fbbec35a5"
      },
      "execution_count": 5,
      "outputs": [
        {
          "output_type": "stream",
          "name": "stdout",
          "text": [
            "['Action', 'org:resource', 'concept:name', 'EventOrigin', 'EventID', 'lifecycle:transition', 'time:timestamp', 'case:LoanGoal', 'case:ApplicationType', 'case:concept:name', 'case:RequestedAmount', 'FirstWithdrawalAmount', 'NumberOfTerms', 'Accepted', 'MonthlyCost', 'Selected', 'CreditScore', 'OfferedAmount', 'OfferID']\n"
          ]
        }
      ]
    },
    {
      "cell_type": "code",
      "source": [
        "#Filter das nur noch Manuelle schritte vorhanden sind.\n",
        "\n",
        "#dfw = df.loc[df['concept:name'].str.contains(\"O_|A_\")==True]\n",
        "#dfw.loc[df['concept:name'].str.contains(\"A_\")==True]\n",
        "#dfw"
      ],
      "metadata": {
        "id": "4I9lj0uI97LT"
      },
      "execution_count": 9,
      "outputs": []
    },
    {
      "cell_type": "code",
      "source": [
        "#dfw['timestamp_unix'] = dfw['time:timestamp'].apply(lambda x: x.timestamp())\n"
      ],
      "metadata": {
        "id": "CTp11nnZj672"
      },
      "execution_count": 10,
      "outputs": []
    },
    {
      "cell_type": "code",
      "source": [],
      "metadata": {
        "id": "TVayyuut9EFZ"
      },
      "execution_count": 10,
      "outputs": []
    },
    {
      "cell_type": "code",
      "source": [
        "#df_data = dfw[[\n",
        "#\"Action\",\t\"concept:name\", \"case:LoanGoal\", \"case:ApplicationType\", \t\"Selected\"#,\t,\t\"case:RequestedAmount\",\"OfferedAmount\",,\t\"OfferID\"\n",
        "                #,\"org:resource\",\t\"EventOrigin\",\t\"FirstWithdrawalAmount\",\t\"NumberOfTerms\",\t\"Accepted\",\t\"MonthlyCost\",\t\"CreditScore\",\t\"timestamp_unix\"\n",
        "#\"case:concept:name\"\n",
        " #               ]]"
      ],
      "metadata": {
        "id": "_fBvlB8bkcCJ"
      },
      "execution_count": 11,
      "outputs": []
    },
    {
      "cell_type": "code",
      "source": [
        "#df_data.shape\n",
        "#df_dummies = pd.get_dummies(df_data)"
      ],
      "metadata": {
        "id": "VW6dXuYP9Fn2"
      },
      "execution_count": 12,
      "outputs": []
    },
    {
      "cell_type": "markdown",
      "source": [
        "# Featureengineering"
      ],
      "metadata": {
        "id": "JDl-7EGrhkWN"
      }
    },
    {
      "cell_type": "markdown",
      "source": [
        "Hier werden Features und die Zielvariable (die, die vorhergesagt werden soll) definiert und in eine nutzbare form gebracht"
      ],
      "metadata": {
        "id": "QZFlz-2msHnb"
      }
    },
    {
      "cell_type": "code",
      "source": [
        "import numpy as np\n",
        "\n",
        "# Angenommen, Ihr DataFrame heißt \"data_df\"\n",
        "\n",
        "# Merkmale und Zielvariablen aus dem DataFrame extrahieren\n",
        "features = df_dummies.drop(['Selected_False', 'Selected_True'], axis=1).values\n",
        "labels = df_dummies['Selected_True'].values\n",
        "\n",
        "# Umwandeln der Daten in das gewünschte Format\n",
        "X = np.reshape(features, (features.shape[0], 1, features.shape[1]))\n",
        "\n",
        "# Überprüfen der Form der Daten\n",
        "print(\"Form der Eingabedaten (X):\", X.shape)\n",
        "print(\"Form der Zielvariablen (y):\", labels.shape)\n",
        "\n",
        "\n",
        "y = labels"
      ],
      "metadata": {
        "colab": {
          "base_uri": "https://localhost:8080/",
          "height": 250
        },
        "id": "pkzN9FVOlV0-",
        "outputId": "f7ebd743-5460-471e-ab94-f197bdde6f8a"
      },
      "execution_count": 13,
      "outputs": [
        {
          "output_type": "error",
          "ename": "NameError",
          "evalue": "ignored",
          "traceback": [
            "\u001b[0;31m---------------------------------------------------------------------------\u001b[0m",
            "\u001b[0;31mNameError\u001b[0m                                 Traceback (most recent call last)",
            "\u001b[0;32m<ipython-input-13-2a00c5388006>\u001b[0m in \u001b[0;36m<cell line: 6>\u001b[0;34m()\u001b[0m\n\u001b[1;32m      4\u001b[0m \u001b[0;34m\u001b[0m\u001b[0m\n\u001b[1;32m      5\u001b[0m \u001b[0;31m# Merkmale und Zielvariablen aus dem DataFrame extrahieren\u001b[0m\u001b[0;34m\u001b[0m\u001b[0;34m\u001b[0m\u001b[0m\n\u001b[0;32m----> 6\u001b[0;31m \u001b[0mfeatures\u001b[0m \u001b[0;34m=\u001b[0m \u001b[0mdf_dummies\u001b[0m\u001b[0;34m.\u001b[0m\u001b[0mdrop\u001b[0m\u001b[0;34m(\u001b[0m\u001b[0;34m[\u001b[0m\u001b[0;34m'Selected_False'\u001b[0m\u001b[0;34m,\u001b[0m \u001b[0;34m'Selected_True'\u001b[0m\u001b[0;34m]\u001b[0m\u001b[0;34m,\u001b[0m \u001b[0maxis\u001b[0m\u001b[0;34m=\u001b[0m\u001b[0;36m1\u001b[0m\u001b[0;34m)\u001b[0m\u001b[0;34m.\u001b[0m\u001b[0mvalues\u001b[0m\u001b[0;34m\u001b[0m\u001b[0;34m\u001b[0m\u001b[0m\n\u001b[0m\u001b[1;32m      7\u001b[0m \u001b[0mlabels\u001b[0m \u001b[0;34m=\u001b[0m \u001b[0mdf_dummies\u001b[0m\u001b[0;34m[\u001b[0m\u001b[0;34m'Selected_True'\u001b[0m\u001b[0;34m]\u001b[0m\u001b[0;34m.\u001b[0m\u001b[0mvalues\u001b[0m\u001b[0;34m\u001b[0m\u001b[0;34m\u001b[0m\u001b[0m\n\u001b[1;32m      8\u001b[0m \u001b[0;34m\u001b[0m\u001b[0m\n",
            "\u001b[0;31mNameError\u001b[0m: name 'df_dummies' is not defined"
          ]
        }
      ]
    },
    {
      "cell_type": "markdown",
      "source": [
        "Hier wird der Train - Test - Split durchgeführt"
      ],
      "metadata": {
        "id": "RMbdXiT3sUzo"
      }
    },
    {
      "cell_type": "code",
      "source": [
        "from sklearn.model_selection import train_test_split\n",
        "\n",
        "# Annahme: X ist Ihre Eingabe (Features) und y sind Ihre Zielvariablen\n",
        "\n",
        "# Daten in Trainingsdaten und Testdaten aufteilen\n",
        "X_train, X_test, y_train, y_test = train_test_split(X, y, test_size=0.2, random_state=42)\n",
        "\n",
        "# Überprüfen der Größe der aufgeteilten Daten\n",
        "print(\"Trainingsdaten: \", X_train.shape)\n",
        "print(\"Trainingslabels: \", y_train.shape)\n",
        "print(\"Testdaten: \", X_test.shape)\n",
        "print(\"Testlabels: \", y_test.shape)"
      ],
      "metadata": {
        "id": "0PuEyElUN8CL"
      },
      "execution_count": null,
      "outputs": []
    },
    {
      "cell_type": "markdown",
      "source": [
        "# LSTM"
      ],
      "metadata": {
        "id": "e9SIRB34ho8w"
      }
    },
    {
      "cell_type": "markdown",
      "source": [
        "Hier wird das LSTM Modell erstellt"
      ],
      "metadata": {
        "id": "akflT8acsZER"
      }
    },
    {
      "cell_type": "code",
      "source": [
        "from tensorflow.keras.models import Sequential\n",
        "from tensorflow.keras.layers import LSTM, Dense\n",
        "\n",
        "# Annahme: Anzahl der versteckten Einheiten (hidden_units) = 128, Sequenzlänge (sequence_length) = X.shape[1], Anzahl der Merkmale (num_features) = X.shape[2]\n",
        "sequence_length = 1\n",
        "num_features = 16\n",
        "# LSTM-Modell erstellen\n",
        "model = Sequential()\n",
        "model.add(LSTM(128, input_shape=(sequence_length, num_features)))\n",
        "model.add(Dense(1, activation='sigmoid'))\n",
        "\n",
        "# Modellzusammenfassung anzeigen\n",
        "model.summary()"
      ],
      "metadata": {
        "id": "SAWTuEctN1ny"
      },
      "execution_count": null,
      "outputs": []
    },
    {
      "cell_type": "markdown",
      "source": [
        "Hier wird das Modell kompiliert"
      ],
      "metadata": {
        "id": "m3c8w4VEsjAw"
      }
    },
    {
      "cell_type": "code",
      "source": [
        "# Annahme: Ihr Modell wird \"model\" genannt\n",
        "\n",
        "model.compile(optimizer='adam', loss='binary_crossentropy', metrics=['accuracy'])\n"
      ],
      "metadata": {
        "id": "eQ9lxDHNsdQh"
      },
      "execution_count": null,
      "outputs": []
    },
    {
      "cell_type": "markdown",
      "source": [
        "Modell wird trainiert"
      ],
      "metadata": {
        "id": "4oWeh54OzPk0"
      }
    },
    {
      "cell_type": "code",
      "source": [
        "history = model.fit(X_train, y_train, epochs=10, batch_size=32, validation_split=0.2)"
      ],
      "metadata": {
        "id": "f3wGa25Br3w1"
      },
      "execution_count": null,
      "outputs": []
    },
    {
      "cell_type": "code",
      "source": [
        "X_train.shape"
      ],
      "metadata": {
        "id": "ZXtqILQotH6t"
      },
      "execution_count": null,
      "outputs": []
    },
    {
      "cell_type": "code",
      "source": [
        "# Annahme: Ihr trainiertes Modell heißt \"model\"\n",
        "\n",
        "# Vorhersagen machen\n",
        "predictions = model.predict(X_test)\n"
      ],
      "metadata": {
        "id": "Wfc_zxn7zep4"
      },
      "execution_count": null,
      "outputs": []
    },
    {
      "cell_type": "code",
      "source": [
        "predictions"
      ],
      "metadata": {
        "id": "V1JvuREWznFr"
      },
      "execution_count": null,
      "outputs": []
    },
    {
      "cell_type": "code",
      "source": [
        "integer_predictions = np.round(predictions).astype(int)"
      ],
      "metadata": {
        "id": "D81EFfanmcgO"
      },
      "execution_count": null,
      "outputs": []
    },
    {
      "cell_type": "code",
      "source": [
        "\n",
        "\n",
        "# Ausgabe der eindeutigen Werte\n",
        "print(np.unique(integer_predictions))"
      ],
      "metadata": {
        "id": "i4jfMqqZtXZ1"
      },
      "execution_count": null,
      "outputs": []
    },
    {
      "cell_type": "markdown",
      "source": [
        "# LIME"
      ],
      "metadata": {
        "id": "xjEElrJRhxqF"
      }
    },
    {
      "cell_type": "markdown",
      "source": [
        "LIME"
      ],
      "metadata": {
        "id": "ssvKmJ2X6z7s"
      }
    },
    {
      "cell_type": "code",
      "source": [
        "!pip install lime\n",
        "import lime\n",
        "from lime import lime_text\n",
        "from lime import lime_tabular\n",
        "\n",
        "# Annahme: Ihre Instanz heißt \"instance\" und die Vorhersagen sind \"predictions\"\n",
        "\n",
        "\n"
      ],
      "metadata": {
        "id": "vH4lAOIV1gsv"
      },
      "execution_count": null,
      "outputs": []
    },
    {
      "cell_type": "code",
      "source": [
        "X_train"
      ],
      "metadata": {
        "id": "LMjmiV5h1rzf"
      },
      "execution_count": null,
      "outputs": []
    },
    {
      "cell_type": "code",
      "source": [
        "np.random.seed(123)\n",
        "predict_fn = lambda x: model.predict_proba(x)\n",
        "# Defining the LIME explainer object\n",
        "#explainer = lime_tabular.LimeTabularExplainer(X_train,\n",
        " #   feature_names=df_dummies,\n",
        "  #  class_names=['price'],\n",
        "   # categorical_features=categorical_features,\n",
        "    #mode='regression')\n",
        "\n",
        "explainer = lime_tabular.LimeTabularExplainer(training_data=np.array(X_train),\n",
        "                                              mode = \"regression\",\n",
        "                                              feature_names=\"test\",\n",
        "                                              categorical_names=[0])\n",
        "\n",
        "\n",
        "#df[features.columns].astype(int).values,                                               mode='classification',\n",
        "#class_names=['Did not Churn', 'Churn'],                                                 training_labels=df['Churn'],                                                  feature_names=features.columns)\n",
        "# using LIME to get the explanations\n",
        "i = 5\n",
        "exp=explainer.explain_instance(df.loc[i,features.columns].astype(int).values, predict_fn, num_features=5)\n",
        "exp.show_in_notebook(show_table=True)"
      ],
      "metadata": {
        "id": "P1r5qcX0Ofod"
      },
      "execution_count": null,
      "outputs": []
    },
    {
      "cell_type": "code",
      "source": [
        "from lime.lime_tabular import LimeTabularExplainer\n",
        "\n",
        "def predict_fn(x):\n",
        "    # Annahme: Ihr LSTM-Modell heißt \"model\"\n",
        "    # Annahme: x ist eine einzelne Instanz, die mit der Form (sequence_length, num_features) übereinstimmt\n",
        "\n",
        "    # Vorbereitung der Eingabedaten für das Modell\n",
        "    x = np.expand_dims(x, axis=0)  # Hinzufügen einer zusätzlichen Dimension für die Batch-Größe\n",
        "\n",
        "    # Vorhersage mit dem LSTM-Modell\n",
        "    predictions = model.predict(x)\n",
        "\n",
        "    return predictions\n",
        "\n",
        "\n",
        "# LIME-Explainer initialisieren\n",
        "#explainer = lime_text.LimeTextExplainer()\n",
        "\n",
        "explainer = lime.lime_tabular.LimeTabularExplainer(\n",
        "    X_train,\n",
        "    feature_names=df_dummies,\n",
        "    class_names=['price'],\n",
        "    #categorical_features=categorical_features,\n",
        "    mode='regression')\n",
        "\n",
        "\n",
        "# Erklärungen generieren\n",
        "explanation = explainer.explain_instance(\n",
        "    X_test[1],\n",
        "    predict_fn,\n",
        "    num_features=10)\n",
        "\n",
        "# Erklärungen visualisieren\n",
        "explanation.show_in_notebook()"
      ],
      "metadata": {
        "id": "EHvYfq5L1gi1"
      },
      "execution_count": null,
      "outputs": []
    },
    {
      "cell_type": "code",
      "source": [
        "predictions[1]"
      ],
      "metadata": {
        "id": "jIsCDHB_2127"
      },
      "execution_count": null,
      "outputs": []
    },
    {
      "cell_type": "code",
      "source": [],
      "metadata": {
        "id": "JSe0uP976wcf"
      },
      "execution_count": null,
      "outputs": []
    },
    {
      "cell_type": "markdown",
      "source": [
        "# SHAP"
      ],
      "metadata": {
        "id": "xFKV9Amlh1S2"
      }
    },
    {
      "cell_type": "markdown",
      "source": [
        "SHAP"
      ],
      "metadata": {
        "id": "U1ZxFRfg6w6L"
      }
    },
    {
      "cell_type": "code",
      "source": [
        "!pip install shap\n",
        "import shap\n",
        "\n",
        "# Annahme: Ihr LSTM-Modell heißt \"model\"\n",
        "# Annahme: X_test enthält Ihre Testdaten\n",
        "\n",
        "# SHAP-Explainer für das LSTM-Modell initialisieren\n",
        "explainer = shap.Explainer(model)\n",
        "\n",
        "# SHAP-Werte für Ihre Testdaten berechnen\n",
        "shap_values = explainer(X_test)\n",
        "\n",
        "# Erklärungen visualisieren\n",
        "shap.plots.waterfall(shap_values[0])  # Beispiel für die erste Vorhersage\n"
      ],
      "metadata": {
        "id": "75DkgO0K6wTA"
      },
      "execution_count": null,
      "outputs": []
    },
    {
      "cell_type": "code",
      "source": [
        "explainer = shap.Explainer(model,X_test)\n",
        "\n",
        "# SHAP-Werte für Ihre Testdaten berechnen\n",
        "shap_values = explainer(X_test)\n",
        "\n",
        "# Erklärungen visualisieren\n",
        "shap.plots.waterfall(shap_values[0])  # Beispiel für die erste Vorhersage\n"
      ],
      "metadata": {
        "id": "P1menXOr6_sA"
      },
      "execution_count": null,
      "outputs": []
    },
    {
      "cell_type": "code",
      "source": [
        "X_test_2d = X_test.reshape(X_test.shape[0], -1)"
      ],
      "metadata": {
        "id": "Riz7zX1s-m2l"
      },
      "execution_count": null,
      "outputs": []
    },
    {
      "cell_type": "markdown",
      "source": [
        "# Test mit selected_rows"
      ],
      "metadata": {
        "id": "wMO1Faarh3uk"
      }
    },
    {
      "cell_type": "markdown",
      "source": [
        "Neuer versuch mit \"selected_rows\""
      ],
      "metadata": {
        "id": "xcb0gj_pe3Tc"
      }
    },
    {
      "cell_type": "code",
      "source": [
        "type(selected_rows)"
      ],
      "metadata": {
        "id": "H-XC79CAe6zr"
      },
      "execution_count": null,
      "outputs": []
    },
    {
      "cell_type": "code",
      "source": [
        "selected_rows.head()"
      ],
      "metadata": {
        "id": "4rbuVOMafBYo"
      },
      "execution_count": null,
      "outputs": []
    },
    {
      "cell_type": "code",
      "source": [
        "spaltennamen = selected_rows.columns.tolist()\n",
        "behalten = [\"case:concept:name\",'concept:name', 'case:LoanGoal','case:ApplicationType','case:RequestedAmount']\n",
        "\n",
        "df_probe = selected_rows[behalten]"
      ],
      "metadata": {
        "id": "iPCRmdiAfUb1"
      },
      "execution_count": null,
      "outputs": []
    },
    {
      "cell_type": "code",
      "source": [
        "df_probe.index =df_probe['case:concept:name']\n",
        "df_probe = df_probe.drop(['case:concept:name'], axis=1)\n",
        "df_probe.head()"
      ],
      "metadata": {
        "id": "y34Upugdf4sF"
      },
      "execution_count": null,
      "outputs": []
    },
    {
      "cell_type": "code",
      "source": [
        "df_dummies_sr = pd.get_dummies(df_probe)"
      ],
      "metadata": {
        "id": "NfGxMzMBh9qz"
      },
      "execution_count": null,
      "outputs": []
    },
    {
      "cell_type": "code",
      "source": [
        "df.head()"
      ],
      "metadata": {
        "id": "oWKOjqEW2-bY"
      },
      "execution_count": null,
      "outputs": []
    },
    {
      "cell_type": "code",
      "source": [
        "df_dummies_sr.head()\n"
      ],
      "metadata": {
        "id": "6PdU8Fp7iLCy"
      },
      "execution_count": null,
      "outputs": []
    },
    {
      "cell_type": "code",
      "source": [
        "import numpy as np\n",
        "\n",
        "# Angenommen, Ihr DataFrame heißt \"data_df\"\n",
        "\n",
        "#, 'concept:name_O_Refused'\n",
        "#--> muss wieder zu features und feature_names_df\n",
        "\n",
        "# Merkmale und Zielvariablen aus dem DataFrame extrahieren\n",
        "feature_names_df = df_dummies_sr.drop(['concept:name_O_Accepted', 'concept:name_O_Refused'], axis=1)\n",
        "features = df_dummies_sr.drop(['concept:name_O_Accepted', 'concept:name_O_Refused'], axis=1).values\n",
        "\n",
        "labels = df_dummies_sr['concept:name_O_Accepted'].values\n",
        "\n",
        "# Umwandeln der Daten in das gewünschte Format\n",
        "X = np.reshape(features, (features.shape[0], features.shape[1]))\n",
        "\n",
        "# Überprüfen der Form der Daten\n",
        "print(\"Form der Eingabedaten (X):\", X.shape)\n",
        "print(\"Form der Zielvariablen (y):\", labels.shape)\n",
        "\n",
        "\n",
        "y = labels"
      ],
      "metadata": {
        "id": "P5HO7jrmi1vU"
      },
      "execution_count": null,
      "outputs": []
    },
    {
      "cell_type": "code",
      "source": [
        "\n",
        "X = X[:1000]\n",
        "y=y[:1000]"
      ],
      "metadata": {
        "id": "Db_YHlMKkH57"
      },
      "execution_count": null,
      "outputs": []
    },
    {
      "cell_type": "code",
      "source": [
        "from sklearn.model_selection import train_test_split\n",
        "\n",
        "# Annahme: X ist Ihre Eingabe (Features) und y sind Ihre Zielvariablen\n",
        "\n",
        "# Daten in Trainingsdaten und Testdaten aufteilen\n",
        "X_train, X_test, y_train, y_test = train_test_split(X, y, test_size=0.2, random_state=42)\n",
        "\n",
        "# Überprüfen der Größe der aufgeteilten Daten\n",
        "print(\"Trainingsdaten: \", X_train.shape)\n",
        "print(\"Trainingslabels: \", y_train.shape)\n",
        "print(\"Testdaten: \", X_test.shape)\n",
        "print(\"Testlabels: \", y_test.shape)"
      ],
      "metadata": {
        "id": "yo7Lp6IOGCVa"
      },
      "execution_count": null,
      "outputs": []
    },
    {
      "cell_type": "code",
      "source": [
        "X_train"
      ],
      "metadata": {
        "id": "9f-nzWj-0-qy"
      },
      "execution_count": null,
      "outputs": []
    },
    {
      "cell_type": "markdown",
      "source": [
        "# random forest\n"
      ],
      "metadata": {
        "id": "UTg2uJDFEBw5"
      }
    },
    {
      "cell_type": "code",
      "source": [
        "#random forest\n",
        "from sklearn.ensemble import RandomForestRegressor\n",
        "model = RandomForestRegressor(random_state = 1502,\n",
        "                              n_estimators=200)\n",
        "model.fit(X_train, y_train)"
      ],
      "metadata": {
        "id": "SdkwMloxEFJ3"
      },
      "execution_count": null,
      "outputs": []
    },
    {
      "cell_type": "code",
      "source": [
        "!pip install lime\n",
        "\n"
      ],
      "metadata": {
        "id": "UU5SdcdvlCik"
      },
      "execution_count": null,
      "outputs": []
    },
    {
      "cell_type": "code",
      "source": [
        "#lime\n",
        "from lime import lime_tabular\n",
        "explainer = lime_tabular.LimeTabularExplainer(training_data=np.array(X_train),\n",
        "                                              mode = \"regression\",\n",
        "                                              feature_names=feature_names_df.columns,\n",
        "                                              categorical_names=[0])"
      ],
      "metadata": {
        "id": "J3mU_p3HlF2h"
      },
      "execution_count": null,
      "outputs": []
    },
    {
      "cell_type": "code",
      "source": [
        "feature_names_df"
      ],
      "metadata": {
        "id": "SmVeLz5_qCEF"
      },
      "execution_count": null,
      "outputs": []
    },
    {
      "cell_type": "code",
      "source": [
        "exp = explainer.explain_instance(data_row= X_test[5],\n",
        "                                 predict_fn = model.predict)"
      ],
      "metadata": {
        "id": "Pc5VLfJOlGlG"
      },
      "execution_count": null,
      "outputs": []
    },
    {
      "cell_type": "code",
      "source": [
        "exp.show_in_notebook(show_table=True)"
      ],
      "metadata": {
        "id": "EL4jH2jDlL96"
      },
      "execution_count": null,
      "outputs": []
    },
    {
      "cell_type": "code",
      "source": [
        "exp.as_list()"
      ],
      "metadata": {
        "id": "VH5OT-5u0rTy"
      },
      "execution_count": null,
      "outputs": []
    },
    {
      "cell_type": "markdown",
      "source": [
        "Visualisiert Prozessgraph"
      ],
      "metadata": {
        "id": "jxn9wHAE1lSe"
      }
    },
    {
      "cell_type": "code",
      "source": [
        "import tempfile\n",
        "\n",
        "from pm4py.objects.conversion.log import converter as log_converter\n",
        "from pm4py.algo.discovery.alpha import algorithm as alpha_miner\n",
        "from pm4py.visualization.petri_net import visualizer as pn_visualizer\n",
        "from pm4py.visualization.petri_net.util import performance_map\n",
        "\n",
        "from graphviz import Digraph\n",
        "from pm4py.algo.discovery.alpha import algorithm as alpha_miner\n",
        "net, initial_marking, final_marking = alpha_miner.apply(df)\n",
        "\n",
        "## Import the petrinet visualizer object\n",
        "#from pm4py.visualization.petrinet import visualizer as pn_visualizer\n",
        "# Visualise\n",
        "gviz = pn_visualizer.apply(net, initial_marking, final_marking)\n",
        "pn_visualizer.view(gviz)"
      ],
      "metadata": {
        "id": "9T6I__rkzjDX"
      },
      "execution_count": null,
      "outputs": []
    },
    {
      "cell_type": "code",
      "source": [
        "df.loc[df[\"case:concept:name\"]== \"Application_652823628\"]\n",
        "\n"
      ],
      "metadata": {
        "id": "1oYB9PbN1mB5"
      },
      "execution_count": null,
      "outputs": []
    },
    {
      "cell_type": "code",
      "source": [
        "df[\"case:concept:name\"].nunique()\n",
        "#user11 = user1.drop_duplicates(subset='case:LoanGoal', keep=\"last\")\n"
      ],
      "metadata": {
        "id": "rY789s0XxDu0"
      },
      "execution_count": null,
      "outputs": []
    },
    {
      "cell_type": "code",
      "source": [
        "for col in df:\n",
        "    print(df['case:LoanGoal'].unique())"
      ],
      "metadata": {
        "id": "VQrl8WCKyW3K"
      },
      "execution_count": null,
      "outputs": []
    },
    {
      "cell_type": "code",
      "source": [
        "check7 = df.head(1000)\n",
        "check7.to_csv(\"check3.csv\")"
      ],
      "metadata": {
        "id": "70d1R8CYxToj"
      },
      "execution_count": 17,
      "outputs": []
    },
    {
      "cell_type": "code",
      "source": [
        "pred = np.savetxt('pred.csv', predictions, delimiter=',')"
      ],
      "metadata": {
        "id": "mrwu7VkCz2mJ"
      },
      "execution_count": null,
      "outputs": []
    }
  ]
}